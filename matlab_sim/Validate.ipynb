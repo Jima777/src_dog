{
 "cells": [
  {
   "cell_type": "markdown",
   "metadata": {},
   "source": [
    "# 化简结果测试"
   ]
  },
  {
   "cell_type": "code",
   "execution_count": 1,
   "metadata": {},
   "outputs": [],
   "source": [
    "import numpy as np\n",
    "from math import cos, sin"
   ]
  },
  {
   "cell_type": "code",
   "execution_count": 2,
   "metadata": {},
   "outputs": [],
   "source": [
    "#q = np.random.randn(3);\n",
    "q = (-0.0874748, -1.17668, 1.79928)\n",
    "#dq = np.random.randn(3) * 10;\n",
    "dq = (0.59688,  0.823295, -0.604897)\n",
    "ddq = np.random.randn(3) * 10;\n",
    "g_num = np.random.randn(3) * 10;"
   ]
  },
  {
   "cell_type": "code",
   "execution_count": 3,
   "metadata": {},
   "outputs": [],
   "source": [
    "hip_len_x, hip_len_y, thigh_offset_z, shin_offset_z = 0.053,   0.0575,  -0.2,    -0.2\n",
    "hip_x, hip_y = 0.23,    0.0605\n",
    "m_hip, m_thigh, m_shin = 0.650,   0.863,   0.119\n",
    "com_hip_x, com_hip_y = 0.050160,        -0.013329\n",
    "com_thigh_y, com_thigh_z = 29.693E-3,       -13.531E-3\n",
    "com_shin_z = -93.811E-3\n",
    "I1xx, I1xy, I1yy, I1zz = 399.183E-6,      -13.085E-6,      708.749E-6,      460.327E-6\n",
    "I2xx, I2yy, I2yz, I2zz = 2082.653E-6,     2271.664E-6,     -261.229E-6,     617.145E-6\n",
    "I3xx, I3yy, I3zz = 827.276E-6,      834.282E-6,      15.950E-6\n",
    "g_x, g_y, g_z = g_num\n",
    "q1, q2, q3 = q\n",
    "vq1, vq2, vq3 = dq\n",
    "aq1, aq2, aq3 = ddq"
   ]
  },
  {
   "cell_type": "code",
   "execution_count": 4,
   "metadata": {},
   "outputs": [],
   "source": [
    "s1 = sin(q1)\n",
    "c1 = cos(q1)\n",
    "s2 = sin(q2)\n",
    "c2 = cos(q2)\n",
    "s3 = sin(q3)\n",
    "c3 = cos(q3)\n",
    "s23 = sin(q2 + q3)\n",
    "c23 = cos(q2 + q3)\n",
    "\n",
    "thigh_z = hip_len_y*s1 + thigh_offset_z*c1*c2\n",
    "thigh_y = hip_len_y*c1 - thigh_offset_z*c2*s1\n",
    "shin_z = thigh_offset_z*c2 + shin_offset_z*c23\n",
    "shin_x = thigh_offset_z*s2 + shin_offset_z*s23\n",
    "shin_c_z = thigh_offset_z*c2 + com_shin_z*c23\n",
    "shin_c_x = thigh_offset_z*s2 + com_shin_z*s23\n",
    "thigh_c_y = com_thigh_y + hip_len_y\n",
    "\n",
    "I2cross = I2yz - com_thigh_y*com_thigh_z*m_thigh\n",
    "I2rot = I2xx/2 + I2yy/2 - I2zz/2 + com_thigh_z**2*m_thigh\n",
    "I2center = I2yy/2 - I2xx/2 + I2zz/2\n",
    "I3rot = I3xx/2 + I3yy/2 - I3zz/2 + com_shin_z**2*m_shin\n",
    "I3center = I3yy/2 - I3xx/2 + I3zz/2\n",
    "\n",
    "shin_iner = com_shin_z*m_shin*thigh_offset_z\n",
    "shin_g_in = com_shin_z*m_shin*thigh_z"
   ]
  },
  {
   "cell_type": "code",
   "execution_count": 5,
   "metadata": {},
   "outputs": [
    {
     "name": "stdout",
     "output_type": "stream",
     "text": [
      "-5.551115123125783e-17\n"
     ]
    }
   ],
   "source": [
    "foot1 = hip_x + hip_len_x + shin_offset_z*s23 + thigh_offset_z*s2\n",
    "foot1t = hip_x + hip_len_x + shin_x\n",
    "\n",
    "print(foot1 - foot1t)"
   ]
  },
  {
   "cell_type": "code",
   "execution_count": 6,
   "metadata": {},
   "outputs": [
    {
     "name": "stdout",
     "output_type": "stream",
     "text": [
      "-1.3877787807814457e-17\n"
     ]
    }
   ],
   "source": [
    "foot2 = hip_y - shin_offset_z*s1*c23 + hip_len_y*c1 - thigh_offset_z*c2*s1\n",
    "foot2t = hip_y + hip_len_y*c1 - shin_z*s1\n",
    "\n",
    "print(foot2 - foot2t)"
   ]
  },
  {
   "cell_type": "code",
   "execution_count": 7,
   "metadata": {},
   "outputs": [
    {
     "name": "stdout",
     "output_type": "stream",
     "text": [
      "0.0\n"
     ]
    }
   ],
   "source": [
    "foot3 = shin_offset_z*c1*c23 + hip_len_y*s1 + thigh_offset_z*c1*c2\n",
    "foot3t = hip_len_y*s1 + shin_z*c1\n",
    "\n",
    "print(foot3 - foot3t)"
   ]
  },
  {
   "cell_type": "code",
   "execution_count": 8,
   "metadata": {},
   "outputs": [
    {
     "name": "stdout",
     "output_type": "stream",
     "text": [
      "0.0\n"
     ]
    }
   ],
   "source": [
    "j12 = - shin_offset_z*c1*c23 - hip_len_y*s1 - thigh_offset_z*c1*c2\n",
    "j12t = - shin_offset_z*c1*c23 - thigh_z\n",
    "\n",
    "print(j12 - j12t)"
   ]
  },
  {
   "cell_type": "code",
   "execution_count": 9,
   "metadata": {},
   "outputs": [
    {
     "name": "stdout",
     "output_type": "stream",
     "text": [
      "-6.938893903907228e-18\n"
     ]
    }
   ],
   "source": [
    "j13 = - shin_offset_z*s1*c23 + hip_len_y*c1 - thigh_offset_z*c2*s1\n",
    "j13t = - shin_offset_z*s1*c23 + thigh_y\n",
    "\n",
    "print(j13 - j13t)"
   ]
  },
  {
   "cell_type": "code",
   "execution_count": 10,
   "metadata": {},
   "outputs": [
    {
     "name": "stdout",
     "output_type": "stream",
     "text": [
      "0.0\n"
     ]
    }
   ],
   "source": [
    "j21 = shin_offset_z*c23 + thigh_offset_z*c2\n",
    "j21t = shin_z\n",
    "\n",
    "print(j21 - j21t)"
   ]
  },
  {
   "cell_type": "code",
   "execution_count": 11,
   "metadata": {},
   "outputs": [
    {
     "name": "stdout",
     "output_type": "stream",
     "text": [
      "8.673617379884035e-19\n"
     ]
    }
   ],
   "source": [
    "j22 = shin_offset_z*s1*s23 + thigh_offset_z*s1*s2\n",
    "j22t = shin_x*s1\n",
    "\n",
    "print(j22 - j22t)"
   ]
  },
  {
   "cell_type": "code",
   "execution_count": 12,
   "metadata": {},
   "outputs": [
    {
     "name": "stdout",
     "output_type": "stream",
     "text": [
      "-1.3877787807814457e-17\n"
     ]
    }
   ],
   "source": [
    "j23 = - shin_offset_z*c1*s23 - thigh_offset_z*c1*s2\n",
    "j23t = - c1*shin_x\n",
    "\n",
    "print(j23 - j23t)"
   ]
  },
  {
   "cell_type": "code",
   "execution_count": 13,
   "metadata": {},
   "outputs": [],
   "source": [
    "j31 = shin_offset_z*c23\n",
    "j32 = shin_offset_z*s1*s23\n",
    "j33 = -shin_offset_z*c1*s23"
   ]
  },
  {
   "cell_type": "code",
   "execution_count": 14,
   "metadata": {},
   "outputs": [
    {
     "name": "stdout",
     "output_type": "stream",
     "text": [
      "-1.734723475976807e-18\n"
     ]
    }
   ],
   "source": [
    "H11 = (m_shin*thigh_z + com_shin_z*m_shin*c1*c23)*thigh_z + (m_shin*(hip_len_y*c1 - thigh_offset_z*c2*s1) - com_shin_z*m_shin*s1*c23)*(hip_len_y*c1 - thigh_offset_z*c2*s1) + c1*c23*(c1*c23*I3rot + com_shin_z*m_shin*thigh_z) + (c1*s23)**2*(I3yy/2 - I3xx/2 + I3zz/2) + (s1*s23)**2*(I3yy/2 - I3xx/2 + I3zz/2) - s1*c23*(- s1*c23*I3rot + com_shin_z*m_shin*(hip_len_y*c1 - thigh_offset_z*c2*s1)) + c1*(c1*(I2xx/2 - I2yy/2 + I2zz/2 + com_thigh_y**2*m_thigh) + c2*s1*I2cross + com_thigh_y*hip_len_y*m_thigh*c1) + c1**2*(I1xx/2 - I1yy/2 + I1zz/2 + com_hip_y**2*m_hip) + s1**2*(I1xx/2 - I1yy/2 + I1zz/2 + com_hip_y**2*m_hip) + s1*(s1*(I2xx/2 - I2yy/2 + I2zz/2 + com_thigh_y**2*m_thigh) - c1*c2*I2cross + com_thigh_y*hip_len_y*m_thigh*s1) + c1**2*(I1xx/2 + I1yy/2 - I1zz/2) + c1**2*(I3xx/2 - I3yy/2 + I3zz/2) + s1**2*(I1xx/2 + I1yy/2 - I1zz/2) + s1**2*(I3xx/2 - I3yy/2 + I3zz/2) + hip_len_y*s1*(com_thigh_y*m_thigh*s1 + hip_len_y*m_thigh*s1 + com_thigh_z*m_thigh*c1*c2) + c1**2*s2**2*(I2yy/2 - I2xx/2 + I2zz/2) + s1**2*s2**2*(I2yy/2 - I2xx/2 + I2zz/2) + c1*c2*(c1*c2*(I2xx/2 + I2yy/2 - I2zz/2 + com_thigh_z**2*m_thigh) - s1*I2cross + com_thigh_z*hip_len_y*m_thigh*s1) + c2*s1*(c1*I2cross + c2*s1*(I2xx/2 + I2yy/2 - I2zz/2 + com_thigh_z**2*m_thigh) - com_thigh_z*hip_len_y*m_thigh*c1) + hip_len_y*c1*(com_thigh_y*m_thigh*c1 + hip_len_y*m_thigh*c1 - com_thigh_z*m_thigh*c2*s1)\n",
    "H11t = \\\n",
    "m_shin*(thigh_z**2 + thigh_y**2) \\\n",
    "+ shin_iner*2*c23*c2 \\\n",
    "+ thigh_c_y**2*m_thigh + m_hip*com_hip_y**2 \\\n",
    "+ c23**2*I3rot + s23**2*I3center + s2**2*I2center + c2**2*I2rot \\\n",
    "+ I2xx/2 - I2yy/2 + I2zz/2 + I3xx/2 - I3yy/2 + I3zz/2+ I1xx\n",
    "\n",
    "print(H11 - H11t)"
   ]
  },
  {
   "cell_type": "code",
   "execution_count": 15,
   "metadata": {},
   "outputs": [
    {
     "name": "stdout",
     "output_type": "stream",
     "text": [
      "0.0\n"
     ]
    }
   ],
   "source": [
    "H12 = (c1*s2*(c1*I2cross + c2*s1*(I2xx/2 + I2yy/2 - I2zz/2 + com_thigh_z**2*m_thigh) - com_thigh_z*hip_len_y*m_thigh*c1))/2 - (s1*s23*(c1*c23*I3rot + com_shin_z*m_shin*thigh_z))/2 - (c1*s23*(- s1*c23*I3rot + com_shin_z*m_shin*(hip_len_y*c1 - thigh_offset_z*c2*s1)))/2 - ((hip_len_y*c1 - thigh_offset_z*c2*s1)*(com_shin_z*m_shin*c1*s23 + m_shin*thigh_offset_z*c1*s2))/2 - (thigh_z*(com_shin_z*m_shin*s1*s23 + m_shin*thigh_offset_z*s1*s2))/2 - (- (c1*s23*I3rot + com_shin_z*m_shin*thigh_offset_z*c1*s2)*s1*c23)/2 + c1*s23*s1*c23*(I3yy/2 - I3xx/2 + I3zz/2) - c1*c23*s1*s23*(I3yy/2 - I3xx/2 + I3zz/2) - (c1*c23*(s1*s23*I3rot + com_shin_z*m_shin*thigh_offset_z*s1*s2))/2 - (s1*s2*(c1*c2*(I2xx/2 + I2yy/2 - I2zz/2 + com_thigh_z**2*m_thigh) - s1*I2cross + com_thigh_z*hip_len_y*m_thigh*s1))/2 + (c1**2*s2*I2cross)/2 + (s1**2*s2*I2cross)/2 - (thigh_offset_z*s1*s2*(m_shin*thigh_z + com_shin_z*m_shin*c1*c23))/2 - (thigh_offset_z*c1*s2*(m_shin*(hip_len_y*c1 - thigh_offset_z*c2*s1) - com_shin_z*m_shin*s1*c23))/2 - (com_thigh_z*hip_len_y*m_thigh*c1**2*s2)/2 - (com_thigh_z*hip_len_y*m_thigh*s1**2*s2)/2\n",
    "H12t = \\\n",
    "- m_thigh*com_thigh_z*hip_len_y*s2 + I2cross*s2 \\\n",
    "- m_shin*hip_len_y*shin_c_x\n",
    "\n",
    "print(H12 - H12t)"
   ]
  },
  {
   "cell_type": "code",
   "execution_count": 16,
   "metadata": {},
   "outputs": [
    {
     "name": "stdout",
     "output_type": "stream",
     "text": [
      "0.0\n"
     ]
    }
   ],
   "source": [
    "H13 = - (s1*s23*(c1*c23*I3rot + com_shin_z*m_shin*thigh_z))/2 - (c1*s23*(-s1*c23*I3rot + com_shin_z*m_shin*(hip_len_y*c1 - thigh_offset_z*c2*s1)))/2 + c1*s23*s1*c23*(I3yy/2 - I3xx/2 + I3zz/2) - c1*c23*s1*s23*(I3yy/2 - I3xx/2 + I3zz/2) - (- c1*s23*s1*c23*I3rot)/2 - (c1*c23*s1*s23*I3rot)/2 - (com_shin_z*m_shin*s1*s23*thigh_z)/2 - (com_shin_z*m_shin*c1*s23*(hip_len_y*c1 - thigh_offset_z*c2*s1))/2\n",
    "H13t = \\\n",
    "- s23*com_shin_z*m_shin*hip_len_y\n",
    "\n",
    "print(H13 - H13t)"
   ]
  },
  {
   "cell_type": "code",
   "execution_count": 17,
   "metadata": {},
   "outputs": [
    {
     "name": "stdout",
     "output_type": "stream",
     "text": [
      "0.0\n"
     ]
    }
   ],
   "source": [
    "H22 = (cos(q2)*sin(q1)*sin(q3) + cos(q3)*sin(q1)*sin(q2))*((cos(q2)*sin(q1)*sin(q3) + cos(q3)*sin(q1)*sin(q2))*(I3xx/2 + I3yy/2 - I3zz/2 + com_shin_z**2*m_shin) + com_shin_z*m_shin*thigh_offset_z*sin(q1)*sin(q2)) + (cos(q1)*cos(q2)*cos(q3) - cos(q1)*sin(q2)*sin(q3))**2*(I3yy/2 - I3xx/2 + I3zz/2) + (sin(q1)*sin(q2)*sin(q3) - cos(q2)*cos(q3)*sin(q1))**2*(I3yy/2 - I3xx/2 + I3zz/2) + cos(q2)**2*(I2xx/2 + I2yy/2 - I2zz/2 + com_thigh_z**2*m_thigh) + (cos(q2)*cos(q3) - sin(q2)*sin(q3))*((cos(q2)*cos(q3) - sin(q2)*sin(q3))*(I3xx/2 + I3yy/2 - I3zz/2 + com_shin_z**2*m_shin) + com_shin_z*m_shin*thigh_offset_z*cos(q2)) + (cos(q2)*sin(q3) + cos(q3)*sin(q2))**2*(I3yy/2 - I3xx/2 + I3zz/2) + (cos(q1)*cos(q2)*sin(q3) + cos(q1)*cos(q3)*sin(q2))*((cos(q1)*cos(q2)*sin(q3) + cos(q1)*cos(q3)*sin(q2))*(I3xx/2 + I3yy/2 - I3zz/2 + com_shin_z**2*m_shin) + com_shin_z*m_shin*thigh_offset_z*cos(q1)*sin(q2)) + sin(q2)**2*(I2yy/2 - I2xx/2 + I2zz/2) + cos(q1)**2*cos(q2)**2*(I2yy/2 - I2xx/2 + I2zz/2) + cos(q2)**2*sin(q1)**2*(I2yy/2 - I2xx/2 + I2zz/2) + cos(q1)**2*sin(q2)**2*(I2xx/2 + I2yy/2 - I2zz/2 + com_thigh_z**2*m_thigh) + sin(q1)**2*sin(q2)**2*(I2xx/2 + I2yy/2 - I2zz/2 + com_thigh_z**2*m_thigh) + thigh_offset_z*cos(q2)*(m_shin*thigh_offset_z*cos(q2) + com_shin_z*m_shin*(cos(q2)*cos(q3) - sin(q2)*sin(q3))) + thigh_offset_z*cos(q1)*sin(q2)*(com_shin_z*m_shin*(cos(q1)*cos(q2)*sin(q3) + cos(q1)*cos(q3)*sin(q2)) + m_shin*thigh_offset_z*cos(q1)*sin(q2)) + thigh_offset_z*sin(q1)*sin(q2)*(com_shin_z*m_shin*(cos(q2)*sin(q1)*sin(q3) + cos(q3)*sin(q1)*sin(q2)) + m_shin*thigh_offset_z*sin(q1)*sin(q2))\n",
    "H22t = \\\n",
    "2*c3*m_shin*com_shin_z*thigh_offset_z \\\n",
    "+ I2center + I3center + I2rot + I3rot \\\n",
    "+ m_shin*thigh_offset_z*thigh_offset_z\n",
    "\n",
    "print(H22 - H22t)"
   ]
  },
  {
   "cell_type": "code",
   "execution_count": 18,
   "metadata": {},
   "outputs": [
    {
     "name": "stdout",
     "output_type": "stream",
     "text": [
      "-4.336808689942018e-19\n"
     ]
    }
   ],
   "source": [
    "H23 = ((s1*s23)**2*I3rot)/2 + (s1*s23*(s1*s23*I3rot + shin_iner*s1*s2))/2 + (c23**2*I3rot)/2 + (c1*c23)**2*I3center + (s1*c23)**2*I3center + (c23*(c23*I3rot + shin_iner*c2))/2 + s23**2*I3center + (c1*s23*(c1*s23*I3rot + shin_iner*c1*s2))/2 + ((c1*s23)**2*I3rot)/2 + (shin_iner*c2*c23)/2 + (shin_iner*c1*s2*c1*s23)/2 + (shin_iner*s1*s2*s1*s23)/2\n",
    "H23t = \\\n",
    "I3rot + I3center + c3*shin_iner\n",
    "\n",
    "print(H23 - H23t)"
   ]
  },
  {
   "cell_type": "code",
   "execution_count": 19,
   "metadata": {},
   "outputs": [
    {
     "name": "stdout",
     "output_type": "stream",
     "text": [
      "6.505213034913027e-19\n"
     ]
    }
   ],
   "source": [
    "H33 = (cos(q2)*sin(q1)*sin(q3) + cos(q3)*sin(q1)*sin(q2))**2*(I3xx/2 + I3yy/2 - I3zz/2 + com_shin_z**2*m_shin) + (cos(q2)*cos(q3) - sin(q2)*sin(q3))**2*(I3xx/2 + I3yy/2 - I3zz/2 + com_shin_z**2*m_shin) + (cos(q1)*cos(q2)*cos(q3) - cos(q1)*sin(q2)*sin(q3))**2*(I3yy/2 - I3xx/2 + I3zz/2) + (sin(q1)*sin(q2)*sin(q3) - cos(q2)*cos(q3)*sin(q1))**2*(I3yy/2 - I3xx/2 + I3zz/2) + (cos(q2)*sin(q3) + cos(q3)*sin(q2))**2*(I3yy/2 - I3xx/2 + I3zz/2) + (cos(q1)*cos(q2)*sin(q3) + cos(q1)*cos(q3)*sin(q2))**2*(I3xx/2 + I3yy/2 - I3zz/2 + com_shin_z**2*m_shin)\n",
    "H33t = \\\n",
    "I3rot + I3center\n",
    "\n",
    "print(H33 - H33t)"
   ]
  },
  {
   "cell_type": "code",
   "execution_count": 20,
   "metadata": {},
   "outputs": [
    {
     "name": "stdout",
     "output_type": "stream",
     "text": [
      "4.336808689942018e-19\n"
     ]
    }
   ],
   "source": [
    "C112 = ((sin(q1)*sin(q2)*sin(q3) - cos(q2)*cos(q3)*sin(q1))*((cos(q2)*sin(q1)*sin(q3) + cos(q3)*sin(q1)*sin(q2))*(m_shin*com_shin_z**2 + I3xx/2 + I3yy/2 - I3zz/2) + com_shin_z*m_shin*thigh_offset_z*sin(q1)*sin(q2)))/2 - ((cos(q1)*cos(q2)*sin(q3) + cos(q1)*cos(q3)*sin(q2))*((cos(q1)*cos(q2)*cos(q3) - cos(q1)*sin(q2)*sin(q3))*(m_shin*com_shin_z**2 + I3xx/2 + I3yy/2 - I3zz/2) + com_shin_z*m_shin*(hip_len_y*sin(q1) + thigh_offset_z*cos(q1)*cos(q2))))/2 + ((cos(q2)*sin(q1)*sin(q3) + cos(q3)*sin(q1)*sin(q2))*((sin(q1)*sin(q2)*sin(q3) - cos(q2)*cos(q3)*sin(q1))*(m_shin*com_shin_z**2 + I3xx/2 + I3yy/2 - I3zz/2) + com_shin_z*m_shin*(hip_len_y*cos(q1) - thigh_offset_z*cos(q2)*sin(q1))))/2 - ((hip_len_y*sin(q1) + thigh_offset_z*cos(q1)*cos(q2))*(com_shin_z*m_shin*(cos(q1)*cos(q2)*sin(q3) + cos(q1)*cos(q3)*sin(q2)) + m_shin*thigh_offset_z*cos(q1)*sin(q2)))/2 - ((cos(q1)*cos(q2)*cos(q3) - cos(q1)*sin(q2)*sin(q3))*((cos(q1)*cos(q2)*sin(q3) + cos(q1)*cos(q3)*sin(q2))*(m_shin*com_shin_z**2 + I3xx/2 + I3yy/2 - I3zz/2) + com_shin_z*m_shin*thigh_offset_z*cos(q1)*sin(q2)))/2 + ((hip_len_y*cos(q1) - thigh_offset_z*cos(q2)*sin(q1))*(com_shin_z*m_shin*(cos(q2)*sin(q1)*sin(q3) + cos(q3)*sin(q1)*sin(q2)) + m_shin*thigh_offset_z*sin(q1)*sin(q2)))/2 + (cos(q1)*cos(q2)*sin(q3) + cos(q1)*cos(q3)*sin(q2))*(cos(q1)*cos(q2)*cos(q3) - cos(q1)*sin(q2)*sin(q3))*(I3yy/2 - I3xx/2 + I3zz/2) - (cos(q1)*sin(q2)*(cos(q1)*cos(q2)*(m_thigh*com_thigh_z**2 + I2xx/2 + I2yy/2 - I2zz/2) - sin(q1)*(I2yz - com_thigh_y*com_thigh_z*m_thigh) + com_thigh_z*hip_len_y*m_thigh*sin(q1)))/2 - (sin(q1)*sin(q2)*(cos(q1)*(I2yz - com_thigh_y*com_thigh_z*m_thigh) + cos(q2)*sin(q1)*(m_thigh*com_thigh_z**2 + I2xx/2 + I2yy/2 - I2zz/2) - com_thigh_z*hip_len_y*m_thigh*cos(q1)))/2 - (cos(q2)*sin(q1)*sin(q3) + cos(q3)*sin(q1)*sin(q2))*(sin(q1)*sin(q2)*sin(q3) - cos(q2)*cos(q3)*sin(q1))*(I3yy/2 - I3xx/2 + I3zz/2) - (cos(q1)**2*cos(q2)*sin(q2)*(m_thigh*com_thigh_z**2 + I2xx/2 + I2yy/2 - I2zz/2))/2 - (cos(q2)*sin(q1)**2*sin(q2)*(m_thigh*com_thigh_z**2 + I2xx/2 + I2yy/2 - I2zz/2))/2 + cos(q1)**2*cos(q2)*sin(q2)*(I2yy/2 - I2xx/2 + I2zz/2) - (thigh_offset_z*cos(q1)*sin(q2)*(m_shin*(hip_len_y*sin(q1) + thigh_offset_z*cos(q1)*cos(q2)) + com_shin_z*m_shin*(cos(q1)*cos(q2)*cos(q3) - cos(q1)*sin(q2)*sin(q3))))/2 + cos(q2)*sin(q1)**2*sin(q2)*(I2yy/2 - I2xx/2 + I2zz/2) + (thigh_offset_z*sin(q1)*sin(q2)*(m_shin*(hip_len_y*cos(q1) - thigh_offset_z*cos(q2)*sin(q1)) + com_shin_z*m_shin*(sin(q1)*sin(q2)*sin(q3) - cos(q2)*cos(q3)*sin(q1))))/2\n",
    "C112t = \\\n",
    "- (c2*s23 + s2*c23)*shin_iner \\\n",
    "+ s23*c23*(I3center - I3rot) \\\n",
    "+ c2*s2*(I2center - I2rot - m_shin*thigh_offset_z*thigh_offset_z)\n",
    "\n",
    "print(C112 - C112t)"
   ]
  },
  {
   "cell_type": "code",
   "execution_count": 21,
   "metadata": {},
   "outputs": [
    {
     "name": "stdout",
     "output_type": "stream",
     "text": [
      "-2.168404344971009e-19\n"
     ]
    }
   ],
   "source": [
    "C113 = (s1*s23*(- s1*c23*I3rot + com_shin_z*m_shin*thigh_y))/2 - (c1*s23*(c1*c23*I3rot + shin_g_in))/2 + c1*s23*c1*c23*I3center + s1*s23*s1*c23*I3center - (c1*s23*c1*c23*I3rot)/2 + (- s1*s23*s1*c23*I3rot)/2 + (com_shin_z*m_shin*s1*s23*thigh_y)/2 - (com_shin_z*m_shin*c1*s23*thigh_z)/2\n",
    "C113t = \\\n",
    "- s23*c2*shin_iner \\\n",
    "+ s23*c23*(I3center - I3rot)\n",
    "\n",
    "print(C113 - C113t)"
   ]
  },
  {
   "cell_type": "code",
   "execution_count": 22,
   "metadata": {},
   "outputs": [
    {
     "name": "stdout",
     "output_type": "stream",
     "text": [
      "2.168404344971009e-19\n"
     ]
    }
   ],
   "source": [
    "C122 = (- s1*c23*(c1*c23*I3rot + com_shin_z*m_shin*thigh_z))/2 - (c1*c23*(- s1*c23*I3rot + com_shin_z*m_shin*(hip_len_y*c1 - thigh_offset_z*c2*s1)))/2 - ((hip_len_y*c1 - thigh_offset_z*c2*s1)*(com_shin_z*m_shin*c1*c23 + m_shin*thigh_offset_z*c1*c2))/2 + (thigh_z*(- com_shin_z*m_shin*s1*c23 - m_shin*thigh_offset_z*c2*s1))/2 + ((c1*c23*I3rot + com_shin_z*m_shin*thigh_offset_z*c1*c2)*s1*c23)/2 + (c1*c23*(- s1*c23*I3rot - com_shin_z*m_shin*thigh_offset_z*c2*s1))/2 + (c1*c2*(c1*I2cross + c2*s1*(I2xx/2 + I2yy/2 - I2zz/2 + com_thigh_z**2*m_thigh) - com_thigh_z*hip_len_y*m_thigh*c1))/2 - (c2*s1*(c1*c2*(I2xx/2 + I2yy/2 - I2zz/2 + com_thigh_z**2*m_thigh) - s1*I2cross + com_thigh_z*hip_len_y*m_thigh*s1))/2 + (c1**2*c2*I2cross)/2 + (c2*s1**2*I2cross)/2 - (thigh_offset_z*c2*s1*(m_shin*thigh_z + com_shin_z*m_shin*c1*c23))/2 - (thigh_offset_z*c1*c2*(m_shin*(hip_len_y*c1 - thigh_offset_z*c2*s1) - com_shin_z*m_shin*s1*c23))/2 - (com_thigh_z*hip_len_y*m_thigh*c1**2*c2)/2 - (com_thigh_z*hip_len_y*m_thigh*c2*s1**2)/2\n",
    "C122t = \\\n",
    "- m_shin*hip_len_y*shin_c_z \\\n",
    "+ c2*(I2cross - m_thigh*com_thigh_z*hip_len_y)\n",
    "\n",
    "print(C122 - C122t)"
   ]
  },
  {
   "cell_type": "code",
   "execution_count": 23,
   "metadata": {},
   "outputs": [
    {
     "name": "stdout",
     "output_type": "stream",
     "text": [
      "-1.0842021724855044e-19\n"
     ]
    }
   ],
   "source": [
    "C123 = (- s1*c23*(c1*c23*I3rot + shin_g_in))/2 - (c1*c23*(- s1*c23*I3rot + com_shin_z*m_shin*thigh_y))/2 + (- com_shin_z*m_shin*s1*c23*thigh_z)/2 - (com_shin_z*m_shin*c1*c23*thigh_y)/2\n",
    "C123t = \\\n",
    "- c23*com_shin_z*m_shin*hip_len_y\n",
    "\n",
    "print(C123 - C123t)"
   ]
  },
  {
   "cell_type": "code",
   "execution_count": 24,
   "metadata": {},
   "outputs": [
    {
     "name": "stdout",
     "output_type": "stream",
     "text": [
      "-1.0842021724855044e-19\n"
     ]
    }
   ],
   "source": [
    "C133 = (- s1*c23*(c1*c23*I3rot + com_shin_z*m_shin*thigh_z))/2 - (c1*c23*(- s1*c23*I3rot + com_shin_z*m_shin*(hip_len_y*c1 - thigh_offset_z*c2*s1)))/2 + (- com_shin_z*m_shin*s1*c23*thigh_z)/2 - (com_shin_z*m_shin*c1*c23*(hip_len_y*c1 - thigh_offset_z*c2*s1))/2\n",
    "C133t = \\\n",
    "- c23*com_shin_z*m_shin*hip_len_y\n",
    "\n",
    "print(C133 - C133t)"
   ]
  },
  {
   "cell_type": "code",
   "execution_count": 25,
   "metadata": {},
   "outputs": [
    {
     "name": "stdout",
     "output_type": "stream",
     "text": [
      "-4.336808689942018e-19\n"
     ]
    }
   ],
   "source": [
    "C211 = (c1*s23*(c1*c23*I3rot + shin_g_in))/2 - (- s1*c23*(s1*s23*I3rot + shin_iner*s1*s2))/2 - (s1*s23*(- s1*c23*I3rot + com_shin_z*m_shin*thigh_y))/2 + (thigh_z*(com_shin_z*m_shin*c1*s23 + m_shin*thigh_offset_z*c1*s2))/2 + (c1*c23*(c1*s23*I3rot + shin_iner*c1*s2))/2 - (thigh_y*(com_shin_z*m_shin*s1*s23 + m_shin*thigh_offset_z*s1*s2))/2 - c1*s23*c1*c23*I3center + (c1*s2*(c1*c2*I2rot - s1*I2cross + com_thigh_z*hip_len_y*m_thigh*s1))/2 + (s1*s2*(c1*I2cross + c2*s1*I2rot - com_thigh_z*hip_len_y*m_thigh*c1))/2 - s1*s23*s1*c23*I3center + (c1**2*c2*s2*I2rot)/2 + (c2*s1**2*s2*I2rot)/2 - c1**2*c2*s2*I2center + (thigh_offset_z*c1*s2*(m_shin*thigh_z + com_shin_z*m_shin*c1*c23))/2 - c2*s1**2*s2*I2center - (thigh_offset_z*s1*s2*(m_shin*thigh_y - com_shin_z*m_shin*s1*c23))/2\n",
    "C211t = \\\n",
    "+ s23*c23*(I3rot - I3center) \\\n",
    "+ s2*c2*(I2rot - I2center + m_shin*thigh_offset_z*thigh_offset_z) \\\n",
    "+ shin_iner*(s2*c23 + c2*s23)\n",
    "\n",
    "print(C211 - C211t)"
   ]
  },
  {
   "cell_type": "code",
   "execution_count": 26,
   "metadata": {},
   "outputs": [
    {
     "name": "stdout",
     "output_type": "stream",
     "text": [
      "-6.776263578034403e-21\n"
     ]
    }
   ],
   "source": [
    "C213 = (c1*s23*(s1*s23*I3rot + shin_iner*s1*s2))/2 - ((c1*s23*I3rot + shin_iner*c1*s2)*s1*s23)/2 + (shin_iner*s1*s2*c1*s23)/2 - (shin_iner*c1*s2*s1*s23)/2\n",
    "C213t = \\\n",
    "0\n",
    "\n",
    "print(C213 - C213t)"
   ]
  },
  {
   "cell_type": "code",
   "execution_count": 27,
   "metadata": {},
   "outputs": [
    {
     "name": "stdout",
     "output_type": "stream",
     "text": [
      "-3.970466940254533e-19\n"
     ]
    }
   ],
   "source": [
    "C222 = ((c1*c23*I3rot + shin_iner*c1*c2)*c1*s23)/2 - (- s1*c23*(s1*s23*I3rot + shin_iner*s1*s2))/2 - (s23*(c23*I3rot + shin_iner*c2))/2 - (c23*(s23*I3rot + shin_iner*s2))/2 - (s1*s23*(- s1*c23*I3rot - shin_iner*c2*s1))/2 + (c1*c23*(c1*s23*I3rot + shin_iner*c1*s2))/2 - c2*s2*I2rot - c1*s23*c1*c23*I3center - s1*s23*s1*c23*I3center + c2*s2*I2center + s23*c23*I3center - (thigh_offset_z*c2*(m_shin*thigh_offset_z*s2 + com_shin_z*m_shin*s23))/2 - (thigh_offset_z*s2*(m_shin*thigh_offset_z*c2 + com_shin_z*m_shin*c23))/2 + c1**2*c2*s2*I2rot + (thigh_offset_z*c1*c2*(com_shin_z*m_shin*c1*s23 + m_shin*thigh_offset_z*c1*s2))/2 + (thigh_offset_z*c1*s2*(com_shin_z*m_shin*c1*c23 + m_shin*thigh_offset_z*c1*c2))/2 + c2*s1**2*s2*I2rot + (thigh_offset_z*c2*s1*(com_shin_z*m_shin*s1*s23 + m_shin*thigh_offset_z*s1*s2))/2 - (thigh_offset_z*s1*s2*(- com_shin_z*m_shin*s1*c23 - m_shin*thigh_offset_z*c2*s1))/2 - c1**2*c2*s2*I2center - c2*s1**2*s2*I2center\n",
    "C222t = \\\n",
    "0\n",
    "\n",
    "print(C222 - C222t)"
   ]
  },
  {
   "cell_type": "code",
   "execution_count": 28,
   "metadata": {},
   "outputs": [
    {
     "name": "stdout",
     "output_type": "stream",
     "text": [
      "-4.336808689942018e-19\n"
     ]
    }
   ],
   "source": [
    "C223 = (c1*c23*(c1*s23*I3rot + shin_iner*c1*s2))/2 - (s23*(c23*I3rot + shin_iner*c2))/2 - (- s1*c23*(s1*s23*I3rot + shin_iner*s1*s2))/2 - c1*s23*c1*c23*I3center - (s23*c23*I3rot)/2 - s1*s23*s1*c23*I3center + (c1*s23*c1*c23*I3rot)/2 + s23*c23*I3center - (- s1*s23*s1*c23*I3rot)/2 - (shin_iner*c2*s23)/2 + (shin_iner*c1*s2*c1*c23)/2 + (shin_iner*s1*s2*s1*c23)/2\n",
    "C223t = \\\n",
    "- shin_iner*s3\n",
    "\n",
    "print(C223 - C223t)"
   ]
  },
  {
   "cell_type": "code",
   "execution_count": 29,
   "metadata": {},
   "outputs": [
    {
     "name": "stdout",
     "output_type": "stream",
     "text": [
      "-4.336808689942018e-19\n"
     ]
    }
   ],
   "source": [
    "C233 = (c1*c23*(c1*s23*I3rot + shin_iner*c1*s2))/2 - (s23*(c23*I3rot + shin_iner*c2))/2 - (- s1*c23*(s1*s23*I3rot + shin_iner*s1*s2))/2 - c1*s23*c1*c23*I3center - (s23*c23*I3rot)/2 - s1*s23*s1*c23*I3center + (c1*s23*c1*c23*I3rot)/2 + s23*c23*I3center - (- s1*s23*s1*c23*I3rot)/2 - (shin_iner*c2*s23)/2 + (shin_iner*c1*s2*c1*c23)/2 + (shin_iner*s1*s2*s1*c23)/2\n",
    "C233t = C223t\n",
    "\n",
    "print(C233 - C233t)"
   ]
  },
  {
   "cell_type": "code",
   "execution_count": 30,
   "metadata": {},
   "outputs": [
    {
     "name": "stdout",
     "output_type": "stream",
     "text": [
      "0.0\n"
     ]
    }
   ],
   "source": [
    "C311 = (c1*s23*(c1*c23*I3rot + com_shin_z*m_shin*thigh_z))/2 - (s1*s23*(- s1*c23*I3rot + com_shin_z*m_shin*(hip_len_y*c1 - thigh_offset_z*c2*s1)))/2 - c1*s23*c1*c23*(I3yy/2 - I3xx/2 + I3zz/2) - s1*s23*s1*c23*(I3yy/2 - I3xx/2 + I3zz/2) + (c1*s23*c1*c23*I3rot)/2 - (- s1*s23*s1*c23*I3rot)/2 - (com_shin_z*m_shin*s1*s23*(hip_len_y*c1 - thigh_offset_z*c2*s1))/2 + (com_shin_z*m_shin*c1*s23*thigh_z)/2\n",
    "C311t = \\\n",
    "c2*s23*m_shin*com_shin_z*thigh_offset_z \\\n",
    "+ s23*c23*(I3rot - I3center)\n",
    "\n",
    "print(C311 - C311t)"
   ]
  },
  {
   "cell_type": "code",
   "execution_count": 31,
   "metadata": {},
   "outputs": [
    {
     "name": "stdout",
     "output_type": "stream",
     "text": [
      "6.776263578034403e-21\n"
     ]
    }
   ],
   "source": [
    "C312 = ((c1*s23*I3rot + shin_iner*c1*s2)*s1*s23)/2 - (c1*s23*(s1*s23*I3rot + shin_iner*s1*s2))/2 - (shin_iner*s1*s2*c1*s23)/2 + (shin_iner*c1*s2*s1*s23)/2\n",
    "C312t = \\\n",
    "0\n",
    "\n",
    "print(C312 - C312t)"
   ]
  },
  {
   "cell_type": "code",
   "execution_count": 32,
   "metadata": {},
   "outputs": [
    {
     "name": "stdout",
     "output_type": "stream",
     "text": [
      "-4.336808689942018e-19\n"
     ]
    }
   ],
   "source": [
    "C322 = ((c1*c23*I3rot + com_shin_z*m_shin*thigh_offset_z*c1*c2)*c1*s23)/2 - (c23*(s23*I3rot + com_shin_z*m_shin*thigh_offset_z*s2))/2 - (s1*s23*(- s1*c23*I3rot - com_shin_z*m_shin*thigh_offset_z*c2*s1))/2 - c1*s23*c1*c23*(I3yy/2 - I3xx/2 + I3zz/2) - (s23*c23*I3rot)/2 - s1*s23*s1*c23*(I3yy/2 - I3xx/2 + I3zz/2) + (c1*s23*c1*c23*I3rot)/2 + s23*c23*(I3yy/2 - I3xx/2 + I3zz/2) - (- s1*s23*s1*c23*I3rot)/2 - (com_shin_z*m_shin*thigh_offset_z*s2*c23)/2 + (com_shin_z*m_shin*thigh_offset_z*c1*c2*c1*s23)/2 + (com_shin_z*m_shin*thigh_offset_z*c2*s1*s1*s23)/2\n",
    "C322t = \\\n",
    "shin_iner*s3\n",
    "\n",
    "print(C322 - C322t)"
   ]
  },
  {
   "cell_type": "code",
   "execution_count": 33,
   "metadata": {},
   "outputs": [
    {
     "name": "stdout",
     "output_type": "stream",
     "text": [
      "-1.7279472123987727e-19\n"
     ]
    }
   ],
   "source": [
    "C323 = - s1*s23*s1*c23*I3center - s23*c23*I3rot - c1*s23*c1*c23*I3center + c1*s23*c1*c23*I3rot + s23*c23*I3center + s1*s23*s1*c23*I3rot\n",
    "C323t = 0\n",
    "\n",
    "print(C323 - C323t)"
   ]
  },
  {
   "cell_type": "code",
   "execution_count": 34,
   "metadata": {},
   "outputs": [
    {
     "name": "stdout",
     "output_type": "stream",
     "text": [
      "-1.7279472123987727e-19\n"
     ]
    }
   ],
   "source": [
    "C333 = - s1*s23*s1*c23*(I3yy/2 - I3xx/2 + I3zz/2) - s23*c23*I3rot - c1*s23*c1*c23*(I3yy/2 - I3xx/2 + I3zz/2) + c1*s23*c1*c23*I3rot + s23*c23*(I3yy/2 - I3xx/2 + I3zz/2) + s1*s23*s1*c23*I3rot\n",
    "C333t = 0\n",
    "\n",
    "print(C333 - C333t)"
   ]
  },
  {
   "cell_type": "code",
   "execution_count": 35,
   "metadata": {},
   "outputs": [
    {
     "name": "stdout",
     "output_type": "stream",
     "text": [
      "0.0\n"
     ]
    }
   ],
   "source": [
    "G12 = m_shin*thigh_z + com_hip_y*m_hip*s1 + com_thigh_y*m_thigh*s1 + hip_len_y*m_thigh*s1 + com_shin_z*m_shin*c1*c23 + com_thigh_z*m_thigh*c1*c2\n",
    "G12t = \\\n",
    "+ com_hip_y*m_hip*s1 \\\n",
    "+ m_thigh*com_thigh_z*c1*c2 \\\n",
    "+ m_thigh*thigh_c_y*s1 \\\n",
    "+ m_shin*(com_shin_z*c1*c23 + thigh_z)\n",
    "\n",
    "print(G12 - G12t)"
   ]
  },
  {
   "cell_type": "code",
   "execution_count": 36,
   "metadata": {},
   "outputs": [
    {
     "name": "stdout",
     "output_type": "stream",
     "text": [
      "-1.3877787807814457e-17\n"
     ]
    }
   ],
   "source": [
    "G13 = com_thigh_z*m_thigh*c2*s1 - com_hip_y*m_hip*c1 - com_thigh_y*m_thigh*c1 - hip_len_y*m_thigh*c1 + com_shin_z*m_shin*s1*c23 - m_shin*(hip_len_y*c1 - thigh_offset_z*c2*s1)\n",
    "G13t = \\\n",
    "- com_hip_y*m_hip*c1 \\\n",
    "+ m_thigh*c2*s1*com_thigh_z \\\n",
    "- m_thigh*c1*thigh_c_y \\\n",
    "+ m_shin*(com_shin_z*s1*c23 - thigh_y)\n",
    "\n",
    "print(G13 - G13t)"
   ]
  },
  {
   "cell_type": "code",
   "execution_count": 37,
   "metadata": {},
   "outputs": [
    {
     "name": "stdout",
     "output_type": "stream",
     "text": [
      "3.469446951953614e-18\n"
     ]
    }
   ],
   "source": [
    "G21 = - com_thigh_z*m_thigh*c2 - m_shin*thigh_offset_z*c2 - com_shin_z*m_shin*c23\n",
    "G21t = \\\n",
    "- com_thigh_z*m_thigh*c2 \\\n",
    "- m_shin*shin_c_z\n",
    "\n",
    "print(G21 - G21t)"
   ]
  },
  {
   "cell_type": "code",
   "execution_count": 38,
   "metadata": {},
   "outputs": [
    {
     "name": "stdout",
     "output_type": "stream",
     "text": [
      "0.0\n"
     ]
    }
   ],
   "source": [
    "G22 = - com_shin_z*m_shin*s1*s23 - m_shin*thigh_offset_z*s1*s2 - com_thigh_z*m_thigh*s1*s2\n",
    "G22t = \\\n",
    "- s1*m_shin*shin_c_x \\\n",
    "- com_thigh_z*m_thigh*s1*s2\n",
    "\n",
    "print(G22 - G22t)"
   ]
  },
  {
   "cell_type": "code",
   "execution_count": 39,
   "metadata": {},
   "outputs": [
    {
     "name": "stdout",
     "output_type": "stream",
     "text": [
      "0.0\n"
     ]
    }
   ],
   "source": [
    "G23 = com_shin_z*m_shin*c1*s23 + com_thigh_z*m_thigh*c1*s2 + m_shin*thigh_offset_z*c1*s2\n",
    "G23t = \\\n",
    "+ com_thigh_z*m_thigh*c1*s2 \\\n",
    "+ c1*m_shin*shin_c_x\n",
    "\n",
    "print(G23 - G23t)"
   ]
  },
  {
   "cell_type": "code",
   "execution_count": 40,
   "metadata": {},
   "outputs": [],
   "source": [
    "G31 = -com_shin_z*m_shin*c23\n",
    "G32 = -com_shin_z*m_shin*s1*s23\n",
    "G33 = com_shin_z*m_shin*c1*s23"
   ]
  },
  {
   "cell_type": "markdown",
   "metadata": {},
   "source": [
    "## validate result"
   ]
  },
  {
   "cell_type": "code",
   "execution_count": 41,
   "metadata": {},
   "outputs": [
    {
     "name": "stdout",
     "output_type": "stream",
     "text": [
      "[0.35103739407753176, 0.09687660673359387, -0.24338002433272057]\n"
     ]
    }
   ],
   "source": [
    "print([foot1, foot2, foot3])"
   ]
  },
  {
   "cell_type": "code",
   "execution_count": 42,
   "metadata": {},
   "outputs": [
    {
     "name": "stdout",
     "output_type": "stream",
     "text": [
      "[[ 0.          0.24338002  0.03637661]\n",
      " [-0.23927149 -0.00594397 -0.06777725]\n",
      " [-0.162473    0.01018917  0.11618392]]\n"
     ]
    }
   ],
   "source": [
    "J = np.zeros([3, 3])\n",
    "J[0, 0] = 0\n",
    "J[0, 1] = j12\n",
    "J[0, 2] = j13\n",
    "J[1, 0] = j21\n",
    "J[1, 1] = j22\n",
    "J[1, 2] = j23\n",
    "J[2, 0] = j31\n",
    "J[2, 1] = j32\n",
    "J[2, 2] = j33\n",
    "\n",
    "print(J)"
   ]
  },
  {
   "cell_type": "code",
   "execution_count": 43,
   "metadata": {},
   "outputs": [
    {
     "name": "stdout",
     "output_type": "stream",
     "text": [
      "[[ 0.01166301 -0.00158818  0.00037432]\n",
      " [-0.00158818  0.00805979  0.00137583]\n",
      " [ 0.00037432  0.00137583  0.00188154]]\n"
     ]
    }
   ],
   "source": [
    "H = np.zeros([3, 3])\n",
    "H[0, 0] = H11\n",
    "H[0, 1] = H12\n",
    "H[0, 2] = H13\n",
    "H[1, 0] = H12\n",
    "H[1, 1] = H22\n",
    "H[1, 2] = H23\n",
    "H[2, 0] = H13\n",
    "H[2, 1] = H23\n",
    "H[2, 2] = H33\n",
    "\n",
    "print(H)"
   ]
  },
  {
   "cell_type": "code",
   "execution_count": 44,
   "metadata": {},
   "outputs": [
    {
     "name": "stdout",
     "output_type": "stream",
     "text": [
      "[[ 2.94066939e-03  2.31239838e-03 -7.10062915e-04]\n",
      " [-1.52657652e-03  1.31545501e-03 -4.74944896e-04]\n",
      " [ 8.23948418e-04  1.79039990e-03 -3.77380215e-20]]\n"
     ]
    }
   ],
   "source": [
    "C = np.zeros([3, 3])\n",
    "C[0, 0] =    0 * vq1 + C112 * vq2 + C113 * vq3\n",
    "C[0, 1] = C112 * vq1 + C122 * vq2 + C123 * vq3\n",
    "C[0, 2] = C113 * vq1 + C123 * vq2 + C133 * vq3\n",
    "C[1, 0] = C211 * vq1 +    0 * vq2 + C213 * vq3\n",
    "C[1, 1] =    0 * vq1 + C222 * vq2 + C223 * vq3\n",
    "C[1, 2] = C213 * vq1 + C223 * vq2 + C233 * vq3\n",
    "C[2, 0] = C311 * vq1 + C312 * vq2 +    0 * vq3\n",
    "C[2, 1] = C312 * vq1 + C322 * vq2 + C323 * vq3\n",
    "C[2, 2] =    0 * vq1 + C323 * vq2 + C333 * vq3\n",
    "\n",
    "print(C)"
   ]
  },
  {
   "cell_type": "code",
   "execution_count": 45,
   "metadata": {},
   "outputs": [
    {
     "name": "stdout",
     "output_type": "stream",
     "text": [
      "[[ 0.         -0.02901983 -0.07116303]\n",
      " [ 0.02269184  0.00229306  0.02614708]\n",
      " [ 0.00906884 -0.00056873 -0.0064851 ]]\n"
     ]
    }
   ],
   "source": [
    "G = np.zeros([3, 3])\n",
    "G[0, 0] = 0\n",
    "G[0, 1] = G12\n",
    "G[0, 2] = G13\n",
    "G[1, 0] = G21\n",
    "G[1, 1] = G22\n",
    "G[1, 2] = G23\n",
    "G[2, 0] = G31\n",
    "G[2, 1] = G32\n",
    "G[2, 2] = G33\n",
    "\n",
    "print(G)"
   ]
  },
  {
   "cell_type": "code",
   "execution_count": null,
   "metadata": {},
   "outputs": [],
   "source": []
  }
 ],
 "metadata": {
  "kernelspec": {
   "display_name": "Python 3",
   "language": "python",
   "name": "python3"
  },
  "language_info": {
   "codemirror_mode": {
    "name": "ipython",
    "version": 3
   },
   "file_extension": ".py",
   "mimetype": "text/x-python",
   "name": "python",
   "nbconvert_exporter": "python",
   "pygments_lexer": "ipython3",
   "version": "3.8.5"
  }
 },
 "nbformat": 4,
 "nbformat_minor": 4
}
